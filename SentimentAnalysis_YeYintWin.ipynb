{
 "cells": [
  {
   "cell_type": "code",
   "execution_count": 1,
   "metadata": {},
   "outputs": [
    {
     "data": {
      "text/html": [
       "<div>\n",
       "<style scoped>\n",
       "    .dataframe tbody tr th:only-of-type {\n",
       "        vertical-align: middle;\n",
       "    }\n",
       "\n",
       "    .dataframe tbody tr th {\n",
       "        vertical-align: top;\n",
       "    }\n",
       "\n",
       "    .dataframe thead th {\n",
       "        text-align: right;\n",
       "    }\n",
       "</style>\n",
       "<table border=\"1\" class=\"dataframe\">\n",
       "  <thead>\n",
       "    <tr style=\"text-align: right;\">\n",
       "      <th></th>\n",
       "      <th>tweet_id</th>\n",
       "      <th>airline_sentiment</th>\n",
       "      <th>airline_sentiment_confidence</th>\n",
       "      <th>negativereason</th>\n",
       "      <th>negativereason_confidence</th>\n",
       "      <th>airline</th>\n",
       "      <th>airline_sentiment_gold</th>\n",
       "      <th>name</th>\n",
       "      <th>negativereason_gold</th>\n",
       "      <th>retweet_count</th>\n",
       "      <th>text</th>\n",
       "      <th>tweet_coord</th>\n",
       "      <th>tweet_created</th>\n",
       "      <th>tweet_location</th>\n",
       "      <th>user_timezone</th>\n",
       "    </tr>\n",
       "  </thead>\n",
       "  <tbody>\n",
       "    <tr>\n",
       "      <th>0</th>\n",
       "      <td>570306133677760513</td>\n",
       "      <td>neutral</td>\n",
       "      <td>1.0000</td>\n",
       "      <td>NaN</td>\n",
       "      <td>NaN</td>\n",
       "      <td>Virgin America</td>\n",
       "      <td>NaN</td>\n",
       "      <td>cairdin</td>\n",
       "      <td>NaN</td>\n",
       "      <td>0</td>\n",
       "      <td>@VirginAmerica What @dhepburn said.</td>\n",
       "      <td>NaN</td>\n",
       "      <td>2015-02-24 11:35:52 -0800</td>\n",
       "      <td>NaN</td>\n",
       "      <td>Eastern Time (US &amp; Canada)</td>\n",
       "    </tr>\n",
       "    <tr>\n",
       "      <th>1</th>\n",
       "      <td>570301130888122368</td>\n",
       "      <td>positive</td>\n",
       "      <td>0.3486</td>\n",
       "      <td>NaN</td>\n",
       "      <td>0.0000</td>\n",
       "      <td>Virgin America</td>\n",
       "      <td>NaN</td>\n",
       "      <td>jnardino</td>\n",
       "      <td>NaN</td>\n",
       "      <td>0</td>\n",
       "      <td>@VirginAmerica plus you've added commercials t...</td>\n",
       "      <td>NaN</td>\n",
       "      <td>2015-02-24 11:15:59 -0800</td>\n",
       "      <td>NaN</td>\n",
       "      <td>Pacific Time (US &amp; Canada)</td>\n",
       "    </tr>\n",
       "    <tr>\n",
       "      <th>2</th>\n",
       "      <td>570301083672813571</td>\n",
       "      <td>neutral</td>\n",
       "      <td>0.6837</td>\n",
       "      <td>NaN</td>\n",
       "      <td>NaN</td>\n",
       "      <td>Virgin America</td>\n",
       "      <td>NaN</td>\n",
       "      <td>yvonnalynn</td>\n",
       "      <td>NaN</td>\n",
       "      <td>0</td>\n",
       "      <td>@VirginAmerica I didn't today... Must mean I n...</td>\n",
       "      <td>NaN</td>\n",
       "      <td>2015-02-24 11:15:48 -0800</td>\n",
       "      <td>Lets Play</td>\n",
       "      <td>Central Time (US &amp; Canada)</td>\n",
       "    </tr>\n",
       "    <tr>\n",
       "      <th>3</th>\n",
       "      <td>570301031407624196</td>\n",
       "      <td>negative</td>\n",
       "      <td>1.0000</td>\n",
       "      <td>Bad Flight</td>\n",
       "      <td>0.7033</td>\n",
       "      <td>Virgin America</td>\n",
       "      <td>NaN</td>\n",
       "      <td>jnardino</td>\n",
       "      <td>NaN</td>\n",
       "      <td>0</td>\n",
       "      <td>@VirginAmerica it's really aggressive to blast...</td>\n",
       "      <td>NaN</td>\n",
       "      <td>2015-02-24 11:15:36 -0800</td>\n",
       "      <td>NaN</td>\n",
       "      <td>Pacific Time (US &amp; Canada)</td>\n",
       "    </tr>\n",
       "    <tr>\n",
       "      <th>4</th>\n",
       "      <td>570300817074462722</td>\n",
       "      <td>negative</td>\n",
       "      <td>1.0000</td>\n",
       "      <td>Can't Tell</td>\n",
       "      <td>1.0000</td>\n",
       "      <td>Virgin America</td>\n",
       "      <td>NaN</td>\n",
       "      <td>jnardino</td>\n",
       "      <td>NaN</td>\n",
       "      <td>0</td>\n",
       "      <td>@VirginAmerica and it's a really big bad thing...</td>\n",
       "      <td>NaN</td>\n",
       "      <td>2015-02-24 11:14:45 -0800</td>\n",
       "      <td>NaN</td>\n",
       "      <td>Pacific Time (US &amp; Canada)</td>\n",
       "    </tr>\n",
       "    <tr>\n",
       "      <th>...</th>\n",
       "      <td>...</td>\n",
       "      <td>...</td>\n",
       "      <td>...</td>\n",
       "      <td>...</td>\n",
       "      <td>...</td>\n",
       "      <td>...</td>\n",
       "      <td>...</td>\n",
       "      <td>...</td>\n",
       "      <td>...</td>\n",
       "      <td>...</td>\n",
       "      <td>...</td>\n",
       "      <td>...</td>\n",
       "      <td>...</td>\n",
       "      <td>...</td>\n",
       "      <td>...</td>\n",
       "    </tr>\n",
       "    <tr>\n",
       "      <th>14635</th>\n",
       "      <td>569587686496825344</td>\n",
       "      <td>positive</td>\n",
       "      <td>0.3487</td>\n",
       "      <td>NaN</td>\n",
       "      <td>0.0000</td>\n",
       "      <td>American</td>\n",
       "      <td>NaN</td>\n",
       "      <td>KristenReenders</td>\n",
       "      <td>NaN</td>\n",
       "      <td>0</td>\n",
       "      <td>@AmericanAir thank you we got on a different f...</td>\n",
       "      <td>NaN</td>\n",
       "      <td>2015-02-22 12:01:01 -0800</td>\n",
       "      <td>NaN</td>\n",
       "      <td>NaN</td>\n",
       "    </tr>\n",
       "    <tr>\n",
       "      <th>14636</th>\n",
       "      <td>569587371693355008</td>\n",
       "      <td>negative</td>\n",
       "      <td>1.0000</td>\n",
       "      <td>Customer Service Issue</td>\n",
       "      <td>1.0000</td>\n",
       "      <td>American</td>\n",
       "      <td>NaN</td>\n",
       "      <td>itsropes</td>\n",
       "      <td>NaN</td>\n",
       "      <td>0</td>\n",
       "      <td>@AmericanAir leaving over 20 minutes Late Flig...</td>\n",
       "      <td>NaN</td>\n",
       "      <td>2015-02-22 11:59:46 -0800</td>\n",
       "      <td>Texas</td>\n",
       "      <td>NaN</td>\n",
       "    </tr>\n",
       "    <tr>\n",
       "      <th>14637</th>\n",
       "      <td>569587242672398336</td>\n",
       "      <td>neutral</td>\n",
       "      <td>1.0000</td>\n",
       "      <td>NaN</td>\n",
       "      <td>NaN</td>\n",
       "      <td>American</td>\n",
       "      <td>NaN</td>\n",
       "      <td>sanyabun</td>\n",
       "      <td>NaN</td>\n",
       "      <td>0</td>\n",
       "      <td>@AmericanAir Please bring American Airlines to...</td>\n",
       "      <td>NaN</td>\n",
       "      <td>2015-02-22 11:59:15 -0800</td>\n",
       "      <td>Nigeria,lagos</td>\n",
       "      <td>NaN</td>\n",
       "    </tr>\n",
       "    <tr>\n",
       "      <th>14638</th>\n",
       "      <td>569587188687634433</td>\n",
       "      <td>negative</td>\n",
       "      <td>1.0000</td>\n",
       "      <td>Customer Service Issue</td>\n",
       "      <td>0.6659</td>\n",
       "      <td>American</td>\n",
       "      <td>NaN</td>\n",
       "      <td>SraJackson</td>\n",
       "      <td>NaN</td>\n",
       "      <td>0</td>\n",
       "      <td>@AmericanAir you have my money, you change my ...</td>\n",
       "      <td>NaN</td>\n",
       "      <td>2015-02-22 11:59:02 -0800</td>\n",
       "      <td>New Jersey</td>\n",
       "      <td>Eastern Time (US &amp; Canada)</td>\n",
       "    </tr>\n",
       "    <tr>\n",
       "      <th>14639</th>\n",
       "      <td>569587140490866689</td>\n",
       "      <td>neutral</td>\n",
       "      <td>0.6771</td>\n",
       "      <td>NaN</td>\n",
       "      <td>0.0000</td>\n",
       "      <td>American</td>\n",
       "      <td>NaN</td>\n",
       "      <td>daviddtwu</td>\n",
       "      <td>NaN</td>\n",
       "      <td>0</td>\n",
       "      <td>@AmericanAir we have 8 ppl so we need 2 know h...</td>\n",
       "      <td>NaN</td>\n",
       "      <td>2015-02-22 11:58:51 -0800</td>\n",
       "      <td>dallas, TX</td>\n",
       "      <td>NaN</td>\n",
       "    </tr>\n",
       "  </tbody>\n",
       "</table>\n",
       "<p>14640 rows × 15 columns</p>\n",
       "</div>"
      ],
      "text/plain": [
       "                 tweet_id airline_sentiment  airline_sentiment_confidence  \\\n",
       "0      570306133677760513           neutral                        1.0000   \n",
       "1      570301130888122368          positive                        0.3486   \n",
       "2      570301083672813571           neutral                        0.6837   \n",
       "3      570301031407624196          negative                        1.0000   \n",
       "4      570300817074462722          negative                        1.0000   \n",
       "...                   ...               ...                           ...   \n",
       "14635  569587686496825344          positive                        0.3487   \n",
       "14636  569587371693355008          negative                        1.0000   \n",
       "14637  569587242672398336           neutral                        1.0000   \n",
       "14638  569587188687634433          negative                        1.0000   \n",
       "14639  569587140490866689           neutral                        0.6771   \n",
       "\n",
       "               negativereason  negativereason_confidence         airline  \\\n",
       "0                         NaN                        NaN  Virgin America   \n",
       "1                         NaN                     0.0000  Virgin America   \n",
       "2                         NaN                        NaN  Virgin America   \n",
       "3                  Bad Flight                     0.7033  Virgin America   \n",
       "4                  Can't Tell                     1.0000  Virgin America   \n",
       "...                       ...                        ...             ...   \n",
       "14635                     NaN                     0.0000        American   \n",
       "14636  Customer Service Issue                     1.0000        American   \n",
       "14637                     NaN                        NaN        American   \n",
       "14638  Customer Service Issue                     0.6659        American   \n",
       "14639                     NaN                     0.0000        American   \n",
       "\n",
       "      airline_sentiment_gold             name negativereason_gold  \\\n",
       "0                        NaN          cairdin                 NaN   \n",
       "1                        NaN         jnardino                 NaN   \n",
       "2                        NaN       yvonnalynn                 NaN   \n",
       "3                        NaN         jnardino                 NaN   \n",
       "4                        NaN         jnardino                 NaN   \n",
       "...                      ...              ...                 ...   \n",
       "14635                    NaN  KristenReenders                 NaN   \n",
       "14636                    NaN         itsropes                 NaN   \n",
       "14637                    NaN         sanyabun                 NaN   \n",
       "14638                    NaN       SraJackson                 NaN   \n",
       "14639                    NaN        daviddtwu                 NaN   \n",
       "\n",
       "       retweet_count                                               text  \\\n",
       "0                  0                @VirginAmerica What @dhepburn said.   \n",
       "1                  0  @VirginAmerica plus you've added commercials t...   \n",
       "2                  0  @VirginAmerica I didn't today... Must mean I n...   \n",
       "3                  0  @VirginAmerica it's really aggressive to blast...   \n",
       "4                  0  @VirginAmerica and it's a really big bad thing...   \n",
       "...              ...                                                ...   \n",
       "14635              0  @AmericanAir thank you we got on a different f...   \n",
       "14636              0  @AmericanAir leaving over 20 minutes Late Flig...   \n",
       "14637              0  @AmericanAir Please bring American Airlines to...   \n",
       "14638              0  @AmericanAir you have my money, you change my ...   \n",
       "14639              0  @AmericanAir we have 8 ppl so we need 2 know h...   \n",
       "\n",
       "      tweet_coord              tweet_created tweet_location  \\\n",
       "0             NaN  2015-02-24 11:35:52 -0800            NaN   \n",
       "1             NaN  2015-02-24 11:15:59 -0800            NaN   \n",
       "2             NaN  2015-02-24 11:15:48 -0800      Lets Play   \n",
       "3             NaN  2015-02-24 11:15:36 -0800            NaN   \n",
       "4             NaN  2015-02-24 11:14:45 -0800            NaN   \n",
       "...           ...                        ...            ...   \n",
       "14635         NaN  2015-02-22 12:01:01 -0800            NaN   \n",
       "14636         NaN  2015-02-22 11:59:46 -0800          Texas   \n",
       "14637         NaN  2015-02-22 11:59:15 -0800  Nigeria,lagos   \n",
       "14638         NaN  2015-02-22 11:59:02 -0800     New Jersey   \n",
       "14639         NaN  2015-02-22 11:58:51 -0800     dallas, TX   \n",
       "\n",
       "                    user_timezone  \n",
       "0      Eastern Time (US & Canada)  \n",
       "1      Pacific Time (US & Canada)  \n",
       "2      Central Time (US & Canada)  \n",
       "3      Pacific Time (US & Canada)  \n",
       "4      Pacific Time (US & Canada)  \n",
       "...                           ...  \n",
       "14635                         NaN  \n",
       "14636                         NaN  \n",
       "14637                         NaN  \n",
       "14638  Eastern Time (US & Canada)  \n",
       "14639                         NaN  \n",
       "\n",
       "[14640 rows x 15 columns]"
      ]
     },
     "execution_count": 1,
     "metadata": {},
     "output_type": "execute_result"
    }
   ],
   "source": [
    "import pandas as pd\n",
    "import matplotlib.pyplot as plt\n",
    "import seaborn as sns\n",
    "import re\n",
    "import string\n",
    "import nltk\n",
    "# nltk.download()\n",
    "\n",
    "from nltk.corpus import stopwords\n",
    "from nltk.tokenize import word_tokenize\n",
    "from nltk import PorterStemmer as Stemmer\n",
    "from nltk.corpus import wordnet\n",
    "from nltk.stem import WordNetLemmatizer \n",
    "from nltk import pos_tag\n",
    "\n",
    "df = pd.read_csv('Tweets.csv')\n",
    "df"
   ]
  },
  {
   "cell_type": "code",
   "execution_count": 2,
   "metadata": {},
   "outputs": [
    {
     "name": "stdout",
     "output_type": "stream",
     "text": [
      "tweet_id              int64\n",
      "airline_sentiment    object\n",
      "text                 object\n",
      "dtype: object\n"
     ]
    },
    {
     "data": {
      "text/html": [
       "<div>\n",
       "<style scoped>\n",
       "    .dataframe tbody tr th:only-of-type {\n",
       "        vertical-align: middle;\n",
       "    }\n",
       "\n",
       "    .dataframe tbody tr th {\n",
       "        vertical-align: top;\n",
       "    }\n",
       "\n",
       "    .dataframe thead th {\n",
       "        text-align: right;\n",
       "    }\n",
       "</style>\n",
       "<table border=\"1\" class=\"dataframe\">\n",
       "  <thead>\n",
       "    <tr style=\"text-align: right;\">\n",
       "      <th></th>\n",
       "      <th>tweet_id</th>\n",
       "      <th>airline_sentiment</th>\n",
       "      <th>text</th>\n",
       "    </tr>\n",
       "  </thead>\n",
       "  <tbody>\n",
       "    <tr>\n",
       "      <th>0</th>\n",
       "      <td>570306133677760513</td>\n",
       "      <td>neutral</td>\n",
       "      <td>@VirginAmerica What @dhepburn said.</td>\n",
       "    </tr>\n",
       "    <tr>\n",
       "      <th>1</th>\n",
       "      <td>570301130888122368</td>\n",
       "      <td>positive</td>\n",
       "      <td>@VirginAmerica plus you've added commercials t...</td>\n",
       "    </tr>\n",
       "    <tr>\n",
       "      <th>2</th>\n",
       "      <td>570301083672813571</td>\n",
       "      <td>neutral</td>\n",
       "      <td>@VirginAmerica I didn't today... Must mean I n...</td>\n",
       "    </tr>\n",
       "    <tr>\n",
       "      <th>3</th>\n",
       "      <td>570301031407624196</td>\n",
       "      <td>negative</td>\n",
       "      <td>@VirginAmerica it's really aggressive to blast...</td>\n",
       "    </tr>\n",
       "    <tr>\n",
       "      <th>4</th>\n",
       "      <td>570300817074462722</td>\n",
       "      <td>negative</td>\n",
       "      <td>@VirginAmerica and it's a really big bad thing...</td>\n",
       "    </tr>\n",
       "  </tbody>\n",
       "</table>\n",
       "</div>"
      ],
      "text/plain": [
       "             tweet_id airline_sentiment  \\\n",
       "0  570306133677760513           neutral   \n",
       "1  570301130888122368          positive   \n",
       "2  570301083672813571           neutral   \n",
       "3  570301031407624196          negative   \n",
       "4  570300817074462722          negative   \n",
       "\n",
       "                                                text  \n",
       "0                @VirginAmerica What @dhepburn said.  \n",
       "1  @VirginAmerica plus you've added commercials t...  \n",
       "2  @VirginAmerica I didn't today... Must mean I n...  \n",
       "3  @VirginAmerica it's really aggressive to blast...  \n",
       "4  @VirginAmerica and it's a really big bad thing...  "
      ]
     },
     "execution_count": 2,
     "metadata": {},
     "output_type": "execute_result"
    }
   ],
   "source": [
    "df_sub = df.loc[:, ['tweet_id', 'airline_sentiment', 'text']]\n",
    "print(df_sub.dtypes)\n",
    "df_sub.head(5)"
   ]
  },
  {
   "cell_type": "code",
   "execution_count": 3,
   "metadata": {},
   "outputs": [
    {
     "name": "stdout",
     "output_type": "stream",
     "text": [
      "tweet_id             object\n",
      "airline_sentiment    object\n",
      "text                 object\n",
      "dtype: object\n"
     ]
    },
    {
     "data": {
      "text/html": [
       "<div>\n",
       "<style scoped>\n",
       "    .dataframe tbody tr th:only-of-type {\n",
       "        vertical-align: middle;\n",
       "    }\n",
       "\n",
       "    .dataframe tbody tr th {\n",
       "        vertical-align: top;\n",
       "    }\n",
       "\n",
       "    .dataframe thead th {\n",
       "        text-align: right;\n",
       "    }\n",
       "</style>\n",
       "<table border=\"1\" class=\"dataframe\">\n",
       "  <thead>\n",
       "    <tr style=\"text-align: right;\">\n",
       "      <th></th>\n",
       "      <th>tweet_id</th>\n",
       "      <th>airline_sentiment</th>\n",
       "      <th>text</th>\n",
       "    </tr>\n",
       "  </thead>\n",
       "  <tbody>\n",
       "    <tr>\n",
       "      <th>0</th>\n",
       "      <td>570306133677760513</td>\n",
       "      <td>neutral</td>\n",
       "      <td>@VirginAmerica What @dhepburn said.</td>\n",
       "    </tr>\n",
       "    <tr>\n",
       "      <th>1</th>\n",
       "      <td>570301130888122368</td>\n",
       "      <td>positive</td>\n",
       "      <td>@VirginAmerica plus you've added commercials t...</td>\n",
       "    </tr>\n",
       "    <tr>\n",
       "      <th>2</th>\n",
       "      <td>570301083672813571</td>\n",
       "      <td>neutral</td>\n",
       "      <td>@VirginAmerica I didn't today... Must mean I n...</td>\n",
       "    </tr>\n",
       "    <tr>\n",
       "      <th>3</th>\n",
       "      <td>570301031407624196</td>\n",
       "      <td>negative</td>\n",
       "      <td>@VirginAmerica it's really aggressive to blast...</td>\n",
       "    </tr>\n",
       "    <tr>\n",
       "      <th>4</th>\n",
       "      <td>570300817074462722</td>\n",
       "      <td>negative</td>\n",
       "      <td>@VirginAmerica and it's a really big bad thing...</td>\n",
       "    </tr>\n",
       "  </tbody>\n",
       "</table>\n",
       "</div>"
      ],
      "text/plain": [
       "             tweet_id airline_sentiment  \\\n",
       "0  570306133677760513           neutral   \n",
       "1  570301130888122368          positive   \n",
       "2  570301083672813571           neutral   \n",
       "3  570301031407624196          negative   \n",
       "4  570300817074462722          negative   \n",
       "\n",
       "                                                text  \n",
       "0                @VirginAmerica What @dhepburn said.  \n",
       "1  @VirginAmerica plus you've added commercials t...  \n",
       "2  @VirginAmerica I didn't today... Must mean I n...  \n",
       "3  @VirginAmerica it's really aggressive to blast...  \n",
       "4  @VirginAmerica and it's a really big bad thing...  "
      ]
     },
     "execution_count": 3,
     "metadata": {},
     "output_type": "execute_result"
    }
   ],
   "source": [
    "df_sub['tweet_id'] = df_sub['tweet_id'].astype('str')\n",
    "print(df_sub.dtypes)\n",
    "df_sub.head(5)"
   ]
  },
  {
   "cell_type": "code",
   "execution_count": 4,
   "metadata": {},
   "outputs": [
    {
     "data": {
      "text/html": [
       "<div>\n",
       "<style scoped>\n",
       "    .dataframe tbody tr th:only-of-type {\n",
       "        vertical-align: middle;\n",
       "    }\n",
       "\n",
       "    .dataframe tbody tr th {\n",
       "        vertical-align: top;\n",
       "    }\n",
       "\n",
       "    .dataframe thead th {\n",
       "        text-align: right;\n",
       "    }\n",
       "</style>\n",
       "<table border=\"1\" class=\"dataframe\">\n",
       "  <thead>\n",
       "    <tr style=\"text-align: right;\">\n",
       "      <th></th>\n",
       "      <th>tweet_id</th>\n",
       "      <th>airline_sentiment</th>\n",
       "      <th>text</th>\n",
       "    </tr>\n",
       "  </thead>\n",
       "  <tbody>\n",
       "    <tr>\n",
       "      <th>778</th>\n",
       "      <td>570083898031513600</td>\n",
       "      <td>negative</td>\n",
       "      <td>@united I'm constantly having challenges with ...</td>\n",
       "    </tr>\n",
       "  </tbody>\n",
       "</table>\n",
       "</div>"
      ],
      "text/plain": [
       "               tweet_id airline_sentiment  \\\n",
       "778  570083898031513600          negative   \n",
       "\n",
       "                                                  text  \n",
       "778  @united I'm constantly having challenges with ...  "
      ]
     },
     "execution_count": 4,
     "metadata": {},
     "output_type": "execute_result"
    }
   ],
   "source": [
    "test_df = df_sub.loc[df_sub['tweet_id'] == '570083898031513600']\n",
    "test_df"
   ]
  },
  {
   "cell_type": "code",
   "execution_count": 5,
   "metadata": {},
   "outputs": [
    {
     "data": {
      "text/plain": [
       "\"@united I'm constantly having challenges with upgrades &amp; charges. In order to prevent DVT I have to pay an addtl $180 http://t.co/xC6jQ70r7B\""
      ]
     },
     "execution_count": 5,
     "metadata": {},
     "output_type": "execute_result"
    }
   ],
   "source": [
    "text = str(test_df['text'].values[0])\n",
    "text"
   ]
  },
  {
   "cell_type": "code",
   "execution_count": 6,
   "metadata": {},
   "outputs": [
    {
     "name": "stdout",
     "output_type": "stream",
     "text": [
      "im constantly challenge upgrade amp charge order prevent dvt pay addtl\n"
     ]
    }
   ],
   "source": [
    "def text_processing(text):\n",
    "    processed_text = text.lower() #lowercaseing\n",
    "    processed_text = re.sub(r'@[A-Za-z0-9]+', '', processed_text) #remove @user mentions\n",
    "    processed_text = re.sub(r'https?://[A-Za-z0-9./]+', '', processed_text) #remove URLs\n",
    "    processed_text = re.sub(r'[^\\x00-\\x7F]+', '', processed_text) #remove non-ASCII characters\n",
    "    \n",
    "    stopWords = set(stopwords.words('english'))\n",
    "    white_list = [\"not\", \"no\", \"won't\", \"isn't\", \"couldn't\", \"wasn't\", \"didn't\", \"shouldn't\", \n",
    "    \"hasn't\", \"wouldn't\", \"haven't\", \"weren't\", \"hadn't\", \"shan't\", \"doesn't\",\n",
    "    \"mightn't\", \"mustn't\", \"needn't\", \"don't\", \"aren't\", \"won't\"]\n",
    "\n",
    "    words = processed_text.split()\n",
    "    processed_text = ' '.join([t for t in words if (t not in stopwords.words('english') or t in white_list)]) #remove stop words\n",
    "\n",
    "    processed_text = ''.join([t for t in processed_text if t not in string.punctuation]) #remove punctuations\n",
    "    processed_text = ''.join([t for t in processed_text if not t.isdigit()]) #remove numberic numbers\n",
    "    \n",
    "    # def stemmer_text(text):\n",
    "    #     text = word_tokenize(str(text))   # Init the Wordnet Lemmatizer    \n",
    "    #     st = Stemmer()  \n",
    "    #     text = [st.stem(t) for t in text]\n",
    "    #     return (' '.join(text))\n",
    "    \n",
    "    def get_wordnet_pos(treebank_tag):\n",
    "        if treebank_tag.startswith('J'):\n",
    "            return wordnet.ADJ\n",
    "        elif treebank_tag.startswith('V'):\n",
    "            return wordnet.VERB\n",
    "        elif treebank_tag.startswith('N'):\n",
    "            return wordnet.NOUN\n",
    "        elif treebank_tag.startswith('R'):\n",
    "            return wordnet.ADV\n",
    "        else:\n",
    "            return wordnet.NOUN\n",
    "        \n",
    "    # use Wordnet(lexical database) to lemmatize text \n",
    "    def lemmatize_text(text):\n",
    "        \n",
    "        lmtzr = WordNetLemmatizer().lemmatize\n",
    "        text = word_tokenize(str(text))   # Init the Wordnet Lemmatizer    \n",
    "        word_pos = pos_tag(text)    \n",
    "        lemm_words = [lmtzr(sw[0], get_wordnet_pos(sw[1])) for sw in word_pos]\n",
    "        return (' '.join(lemm_words))\n",
    "\n",
    "    # processed_text = stemmer_text(processed_text)\n",
    "    processed_text = lemmatize_text(processed_text)\n",
    "    return processed_text\n",
    "\n",
    "print(text_processing(text))"
   ]
  },
  {
   "cell_type": "code",
   "execution_count": 7,
   "metadata": {},
   "outputs": [],
   "source": [
    "# df_sub['processed_text'] = df_sub['text'].apply(text_processing)\n",
    "# df_sub.head(5)"
   ]
  },
  {
   "cell_type": "code",
   "execution_count": 8,
   "metadata": {},
   "outputs": [],
   "source": [
    "# df_sub.loc[:, ('text')].isnull().sum()"
   ]
  },
  {
   "cell_type": "code",
   "execution_count": 9,
   "metadata": {},
   "outputs": [],
   "source": [
    "# df_sub.to_csv('yeyintwin_workshop3.csv', index=False)\n",
    "# print(\"Done\")"
   ]
  },
  {
   "cell_type": "code",
   "execution_count": 10,
   "metadata": {},
   "outputs": [
    {
     "name": "stdout",
     "output_type": "stream",
     "text": [
      "(14640, 4)\n"
     ]
    },
    {
     "data": {
      "text/html": [
       "<div>\n",
       "<style scoped>\n",
       "    .dataframe tbody tr th:only-of-type {\n",
       "        vertical-align: middle;\n",
       "    }\n",
       "\n",
       "    .dataframe tbody tr th {\n",
       "        vertical-align: top;\n",
       "    }\n",
       "\n",
       "    .dataframe thead th {\n",
       "        text-align: right;\n",
       "    }\n",
       "</style>\n",
       "<table border=\"1\" class=\"dataframe\">\n",
       "  <thead>\n",
       "    <tr style=\"text-align: right;\">\n",
       "      <th></th>\n",
       "      <th>tweet_id</th>\n",
       "      <th>airline_sentiment</th>\n",
       "      <th>text</th>\n",
       "      <th>processed_text</th>\n",
       "    </tr>\n",
       "  </thead>\n",
       "  <tbody>\n",
       "    <tr>\n",
       "      <th>0</th>\n",
       "      <td>570306133677760513</td>\n",
       "      <td>neutral</td>\n",
       "      <td>@VirginAmerica What @dhepburn said.</td>\n",
       "      <td>say</td>\n",
       "    </tr>\n",
       "    <tr>\n",
       "      <th>1</th>\n",
       "      <td>570301130888122368</td>\n",
       "      <td>positive</td>\n",
       "      <td>@VirginAmerica plus you've added commercials t...</td>\n",
       "      <td>plus added commercial experience tacky</td>\n",
       "    </tr>\n",
       "    <tr>\n",
       "      <th>2</th>\n",
       "      <td>570301083672813571</td>\n",
       "      <td>neutral</td>\n",
       "      <td>@VirginAmerica I didn't today... Must mean I n...</td>\n",
       "      <td>didnt today must mean need take another trip</td>\n",
       "    </tr>\n",
       "    <tr>\n",
       "      <th>3</th>\n",
       "      <td>570301031407624196</td>\n",
       "      <td>negative</td>\n",
       "      <td>@VirginAmerica it's really aggressive to blast...</td>\n",
       "      <td>really aggressive blast obnoxious entertainmen...</td>\n",
       "    </tr>\n",
       "    <tr>\n",
       "      <th>4</th>\n",
       "      <td>570300817074462722</td>\n",
       "      <td>negative</td>\n",
       "      <td>@VirginAmerica and it's a really big bad thing...</td>\n",
       "      <td>really big bad thing</td>\n",
       "    </tr>\n",
       "  </tbody>\n",
       "</table>\n",
       "</div>"
      ],
      "text/plain": [
       "             tweet_id airline_sentiment  \\\n",
       "0  570306133677760513           neutral   \n",
       "1  570301130888122368          positive   \n",
       "2  570301083672813571           neutral   \n",
       "3  570301031407624196          negative   \n",
       "4  570300817074462722          negative   \n",
       "\n",
       "                                                text  \\\n",
       "0                @VirginAmerica What @dhepburn said.   \n",
       "1  @VirginAmerica plus you've added commercials t...   \n",
       "2  @VirginAmerica I didn't today... Must mean I n...   \n",
       "3  @VirginAmerica it's really aggressive to blast...   \n",
       "4  @VirginAmerica and it's a really big bad thing...   \n",
       "\n",
       "                                      processed_text  \n",
       "0                                                say  \n",
       "1             plus added commercial experience tacky  \n",
       "2       didnt today must mean need take another trip  \n",
       "3  really aggressive blast obnoxious entertainmen...  \n",
       "4                               really big bad thing  "
      ]
     },
     "execution_count": 10,
     "metadata": {},
     "output_type": "execute_result"
    }
   ],
   "source": [
    "df_sub = pd.read_csv('airline_sub.csv')\n",
    "print(df_sub.shape)\n",
    "df_sub.head(5)"
   ]
  },
  {
   "cell_type": "code",
   "execution_count": 11,
   "metadata": {},
   "outputs": [
    {
     "data": {
      "text/plain": [
       "np.int64(11)"
      ]
     },
     "execution_count": 11,
     "metadata": {},
     "output_type": "execute_result"
    }
   ],
   "source": [
    "nan_count = df_sub['processed_text'].isna().sum()\n",
    "nan_count"
   ]
  },
  {
   "cell_type": "code",
   "execution_count": 12,
   "metadata": {},
   "outputs": [
    {
     "data": {
      "text/plain": [
       "(14629, 4)"
      ]
     },
     "execution_count": 12,
     "metadata": {},
     "output_type": "execute_result"
    }
   ],
   "source": [
    "df_sub_cleaned = df_sub.dropna()\n",
    "df_sub_cleaned.shape"
   ]
  },
  {
   "cell_type": "code",
   "execution_count": 13,
   "metadata": {},
   "outputs": [
    {
     "name": "stderr",
     "output_type": "stream",
     "text": [
      "C:\\Users\\Lucas\\AppData\\Local\\Temp\\ipykernel_9092\\187688392.py:1: SettingWithCopyWarning: \n",
      "A value is trying to be set on a copy of a slice from a DataFrame.\n",
      "Try using .loc[row_indexer,col_indexer] = value instead\n",
      "\n",
      "See the caveats in the documentation: https://pandas.pydata.org/pandas-docs/stable/user_guide/indexing.html#returning-a-view-versus-a-copy\n",
      "  df_sub_cleaned['label'] = df_sub_cleaned['airline_sentiment'].map({'negative': -1, 'neutral': 0, 'positive': 1}) # Negative: -1, neutral: 0, positive 1\n"
     ]
    },
    {
     "data": {
      "text/html": [
       "<div>\n",
       "<style scoped>\n",
       "    .dataframe tbody tr th:only-of-type {\n",
       "        vertical-align: middle;\n",
       "    }\n",
       "\n",
       "    .dataframe tbody tr th {\n",
       "        vertical-align: top;\n",
       "    }\n",
       "\n",
       "    .dataframe thead th {\n",
       "        text-align: right;\n",
       "    }\n",
       "</style>\n",
       "<table border=\"1\" class=\"dataframe\">\n",
       "  <thead>\n",
       "    <tr style=\"text-align: right;\">\n",
       "      <th></th>\n",
       "      <th>tweet_id</th>\n",
       "      <th>airline_sentiment</th>\n",
       "      <th>text</th>\n",
       "      <th>processed_text</th>\n",
       "      <th>label</th>\n",
       "    </tr>\n",
       "  </thead>\n",
       "  <tbody>\n",
       "    <tr>\n",
       "      <th>0</th>\n",
       "      <td>570306133677760513</td>\n",
       "      <td>neutral</td>\n",
       "      <td>@VirginAmerica What @dhepburn said.</td>\n",
       "      <td>say</td>\n",
       "      <td>0</td>\n",
       "    </tr>\n",
       "    <tr>\n",
       "      <th>1</th>\n",
       "      <td>570301130888122368</td>\n",
       "      <td>positive</td>\n",
       "      <td>@VirginAmerica plus you've added commercials t...</td>\n",
       "      <td>plus added commercial experience tacky</td>\n",
       "      <td>1</td>\n",
       "    </tr>\n",
       "    <tr>\n",
       "      <th>2</th>\n",
       "      <td>570301083672813571</td>\n",
       "      <td>neutral</td>\n",
       "      <td>@VirginAmerica I didn't today... Must mean I n...</td>\n",
       "      <td>didnt today must mean need take another trip</td>\n",
       "      <td>0</td>\n",
       "    </tr>\n",
       "    <tr>\n",
       "      <th>3</th>\n",
       "      <td>570301031407624196</td>\n",
       "      <td>negative</td>\n",
       "      <td>@VirginAmerica it's really aggressive to blast...</td>\n",
       "      <td>really aggressive blast obnoxious entertainmen...</td>\n",
       "      <td>-1</td>\n",
       "    </tr>\n",
       "    <tr>\n",
       "      <th>4</th>\n",
       "      <td>570300817074462722</td>\n",
       "      <td>negative</td>\n",
       "      <td>@VirginAmerica and it's a really big bad thing...</td>\n",
       "      <td>really big bad thing</td>\n",
       "      <td>-1</td>\n",
       "    </tr>\n",
       "  </tbody>\n",
       "</table>\n",
       "</div>"
      ],
      "text/plain": [
       "             tweet_id airline_sentiment  \\\n",
       "0  570306133677760513           neutral   \n",
       "1  570301130888122368          positive   \n",
       "2  570301083672813571           neutral   \n",
       "3  570301031407624196          negative   \n",
       "4  570300817074462722          negative   \n",
       "\n",
       "                                                text  \\\n",
       "0                @VirginAmerica What @dhepburn said.   \n",
       "1  @VirginAmerica plus you've added commercials t...   \n",
       "2  @VirginAmerica I didn't today... Must mean I n...   \n",
       "3  @VirginAmerica it's really aggressive to blast...   \n",
       "4  @VirginAmerica and it's a really big bad thing...   \n",
       "\n",
       "                                      processed_text  label  \n",
       "0                                                say      0  \n",
       "1             plus added commercial experience tacky      1  \n",
       "2       didnt today must mean need take another trip      0  \n",
       "3  really aggressive blast obnoxious entertainmen...     -1  \n",
       "4                               really big bad thing     -1  "
      ]
     },
     "execution_count": 13,
     "metadata": {},
     "output_type": "execute_result"
    }
   ],
   "source": [
    "df_sub_cleaned['label'] = df_sub_cleaned['airline_sentiment'].map({'negative': -1, 'neutral': 0, 'positive': 1}) # Negative: -1, neutral: 0, positive 1\n",
    "df_sub_cleaned.head(5)"
   ]
  },
  {
   "cell_type": "code",
   "execution_count": 14,
   "metadata": {},
   "outputs": [],
   "source": [
    "# from sklearn.feature_extraction.text import CountVectorizer\n",
    " \n",
    "# document = [\"why cancel cancel flight today\", \n",
    "#             \"kudos for not cancel flightling flight from dfw this morning\"]\n",
    " \n",
    "# # Create a Vectorizer Object\n",
    "# vectorizer = CountVectorizer(analyzer = 'word', ngram_range=(1, 1)) \n",
    " \n",
    "# vectorizer.fit(document)\n",
    " \n",
    "# # Printing the identified Unique words along with their indices\n",
    "# print(\"Vocabulary: \", vectorizer.vocabulary_)"
   ]
  },
  {
   "cell_type": "code",
   "execution_count": 15,
   "metadata": {},
   "outputs": [],
   "source": [
    "# # Encode the Document\n",
    "# vector = vectorizer.transform(document)\n",
    " \n",
    "# # Summarizing the Encoded Texts\n",
    "# print(\"Encoded Document is:\")\n",
    "# print(vector.toarray())"
   ]
  },
  {
   "cell_type": "code",
   "execution_count": 16,
   "metadata": {},
   "outputs": [],
   "source": [
    "# from sklearn.feature_extraction.text import CountVectorizer\n",
    "\n",
    "# N = 3\n",
    "# vector = CountVectorizer(analyzer = 'word', ngram_range = (1, N)) \n",
    "# vector_output = vector.fit_transform(df_sub_cleaned['processed_text'])   \n",
    "# vector_output.shape"
   ]
  },
  {
   "cell_type": "code",
   "execution_count": 17,
   "metadata": {},
   "outputs": [],
   "source": [
    "# vector_to_array = vector_output.toarray()\n",
    "# print(vector_to_array)"
   ]
  },
  {
   "cell_type": "code",
   "execution_count": 18,
   "metadata": {},
   "outputs": [],
   "source": [
    "# from sklearn.feature_extraction.text import TfidfVectorizer\n",
    " \n",
    "# document = [\"why cancel cancel flight today\", \n",
    "#             \"kudos for not cancel flightling flight from dfw this morning\"]\n",
    " \n",
    "# # Create a Vectorizer Object\n",
    "# vectorizer = TfidfVectorizer(analyzer = 'word', ngram_range=(1, 1)) \n",
    "# vectorizer.fit(document)\n",
    " \n",
    "# # Printing the identified Unique words along with their indices\n",
    "# print(\"Vocabulary: \", vectorizer.vocabulary_)"
   ]
  },
  {
   "cell_type": "code",
   "execution_count": 19,
   "metadata": {},
   "outputs": [],
   "source": [
    "# vector = vectorizer.transform(document)\n",
    "# print(\"Encoded Document is:\")\n",
    "# print(vector.toarray())"
   ]
  },
  {
   "cell_type": "code",
   "execution_count": 20,
   "metadata": {},
   "outputs": [
    {
     "data": {
      "text/plain": [
       "(14629, 10944)"
      ]
     },
     "execution_count": 20,
     "metadata": {},
     "output_type": "execute_result"
    }
   ],
   "source": [
    "from sklearn.feature_extraction.text import TfidfVectorizer\n",
    "\n",
    "N = 1\n",
    "vector = TfidfVectorizer(analyzer='word', ngram_range=(1, N))\n",
    "vector_output = vector.fit_transform(df_sub_cleaned['processed_text'])\n",
    "vector_output.shape"
   ]
  },
  {
   "cell_type": "code",
   "execution_count": 21,
   "metadata": {},
   "outputs": [
    {
     "name": "stdout",
     "output_type": "stream",
     "text": [
      "[[0. 0. 0. ... 0. 0. 0.]\n",
      " [0. 0. 0. ... 0. 0. 0.]\n",
      " [0. 0. 0. ... 0. 0. 0.]\n",
      " ...\n",
      " [0. 0. 0. ... 0. 0. 0.]\n",
      " [0. 0. 0. ... 0. 0. 0.]\n",
      " [0. 0. 0. ... 0. 0. 0.]]\n"
     ]
    }
   ],
   "source": [
    "vector_to_array = vector_output.toarray()\n",
    "print(vector_to_array)"
   ]
  },
  {
   "cell_type": "code",
   "execution_count": 22,
   "metadata": {},
   "outputs": [
    {
     "data": {
      "image/png": "[encoded data removed]",
      "text/plain": [
       "<Figure size 640x480 with 1 Axes>"
      ]
     },
     "metadata": {},
     "output_type": "display_data"
    },
    {
     "name": "stdout",
     "output_type": "stream",
     "text": [
      "label\n",
      "-1    9176\n",
      " 0    3091\n",
      " 1    2362\n",
      "Name: count, dtype: int64\n"
     ]
    }
   ],
   "source": [
    "sns.set(style=\"darkgrid\")\n",
    "sns.countplot(x = 'label', data = df_sub_cleaned, order = df_sub_cleaned['label'].value_counts().index, hue = 'label')\n",
    "plt.xlabel('Sentiment')\n",
    "plt.ylabel('Frequency')\n",
    "plt.show()\n",
    "\n",
    "print(df_sub_cleaned['label'].value_counts())"
   ]
  },
  {
   "cell_type": "code",
   "execution_count": 23,
   "metadata": {},
   "outputs": [],
   "source": [
    "import random\n",
    "from sklearn.model_selection import train_test_split\n",
    "\n",
    "random.seed(1234567)\n",
    "\n",
    "train_X, test_X, train_y, test_y = train_test_split(df_sub_cleaned, df_sub_cleaned['label'], test_size = 0.2, random_state = 101)"
   ]
  },
  {
   "cell_type": "code",
   "execution_count": 24,
   "metadata": {},
   "outputs": [
    {
     "data": {
      "text/html": [
       "<div>\n",
       "<style scoped>\n",
       "    .dataframe tbody tr th:only-of-type {\n",
       "        vertical-align: middle;\n",
       "    }\n",
       "\n",
       "    .dataframe tbody tr th {\n",
       "        vertical-align: top;\n",
       "    }\n",
       "\n",
       "    .dataframe thead th {\n",
       "        text-align: right;\n",
       "    }\n",
       "</style>\n",
       "<table border=\"1\" class=\"dataframe\">\n",
       "  <thead>\n",
       "    <tr style=\"text-align: right;\">\n",
       "      <th></th>\n",
       "      <th>tweet_id</th>\n",
       "      <th>airline_sentiment</th>\n",
       "      <th>text</th>\n",
       "      <th>processed_text</th>\n",
       "      <th>label</th>\n",
       "    </tr>\n",
       "  </thead>\n",
       "  <tbody>\n",
       "    <tr>\n",
       "      <th>2333</th>\n",
       "      <td>569257033972604929</td>\n",
       "      <td>negative</td>\n",
       "      <td>@united, no, your service here pretty much rui...</td>\n",
       "      <td>no service pretty much ruin day thanks weak at...</td>\n",
       "      <td>-1</td>\n",
       "    </tr>\n",
       "    <tr>\n",
       "      <th>9259</th>\n",
       "      <td>570019459244691456</td>\n",
       "      <td>negative</td>\n",
       "      <td>@USAirways i have been patient.. especially th...</td>\n",
       "      <td>patient especially first time never fly</td>\n",
       "      <td>-1</td>\n",
       "    </tr>\n",
       "    <tr>\n",
       "      <th>2272</th>\n",
       "      <td>569282692014977025</td>\n",
       "      <td>neutral</td>\n",
       "      <td>@united where's the crew for ua748?</td>\n",
       "      <td>wheres crew ua</td>\n",
       "      <td>0</td>\n",
       "    </tr>\n",
       "    <tr>\n",
       "      <th>13499</th>\n",
       "      <td>569847223829307392</td>\n",
       "      <td>neutral</td>\n",
       "      <td>@AmericanAir Is it true, as FAs are saying, th...</td>\n",
       "      <td>true fa say no way collect money passenger aft...</td>\n",
       "      <td>0</td>\n",
       "    </tr>\n",
       "    <tr>\n",
       "      <th>3353</th>\n",
       "      <td>568503174413225984</td>\n",
       "      <td>negative</td>\n",
       "      <td>@united the wifi in the ewr lounge reminds me ...</td>\n",
       "      <td>wifi ewr lounge remind old day dial</td>\n",
       "      <td>-1</td>\n",
       "    </tr>\n",
       "  </tbody>\n",
       "</table>\n",
       "</div>"
      ],
      "text/plain": [
       "                 tweet_id airline_sentiment  \\\n",
       "2333   569257033972604929          negative   \n",
       "9259   570019459244691456          negative   \n",
       "2272   569282692014977025           neutral   \n",
       "13499  569847223829307392           neutral   \n",
       "3353   568503174413225984          negative   \n",
       "\n",
       "                                                    text  \\\n",
       "2333   @united, no, your service here pretty much rui...   \n",
       "9259   @USAirways i have been patient.. especially th...   \n",
       "2272                 @united where's the crew for ua748?   \n",
       "13499  @AmericanAir Is it true, as FAs are saying, th...   \n",
       "3353   @united the wifi in the ewr lounge reminds me ...   \n",
       "\n",
       "                                          processed_text  label  \n",
       "2333   no service pretty much ruin day thanks weak at...     -1  \n",
       "9259             patient especially first time never fly     -1  \n",
       "2272                                      wheres crew ua      0  \n",
       "13499  true fa say no way collect money passenger aft...      0  \n",
       "3353                 wifi ewr lounge remind old day dial     -1  "
      ]
     },
     "execution_count": 24,
     "metadata": {},
     "output_type": "execute_result"
    }
   ],
   "source": [
    "train_X.head(5)"
   ]
  },
  {
   "cell_type": "code",
   "execution_count": 25,
   "metadata": {},
   "outputs": [
    {
     "data": {
      "text/plain": [
       "2333    -1\n",
       "9259    -1\n",
       "2272     0\n",
       "13499    0\n",
       "3353    -1\n",
       "Name: label, dtype: int64"
      ]
     },
     "execution_count": 25,
     "metadata": {},
     "output_type": "execute_result"
    }
   ],
   "source": [
    "train_y.head(5)"
   ]
  },
  {
   "cell_type": "code",
   "execution_count": 26,
   "metadata": {},
   "outputs": [
    {
     "name": "stdout",
     "output_type": "stream",
     "text": [
      "Entire dataset (14629, 5)\n",
      "Train dataset (11703, 5)\n",
      "Test dataset (2926, 5)\n"
     ]
    }
   ],
   "source": [
    "print('Entire dataset', df_sub_cleaned.shape)\n",
    "print('Train dataset', train_X.shape)\n",
    "print('Test dataset', test_X.shape)"
   ]
  },
  {
   "cell_type": "code",
   "execution_count": 27,
   "metadata": {},
   "outputs": [
    {
     "data": {
      "image/png": "[encoded data removed]",
      "text/plain": [
       "<Figure size 640x480 with 1 Axes>"
      ]
     },
     "metadata": {},
     "output_type": "display_data"
    },
    {
     "data": {
      "text/plain": [
       "label\n",
       "-1    7353\n",
       " 0    2474\n",
       " 1    1876\n",
       "Name: count, dtype: int64"
      ]
     },
     "execution_count": 27,
     "metadata": {},
     "output_type": "execute_result"
    }
   ],
   "source": [
    "sns.set(style=\"darkgrid\")\n",
    "sns.countplot(x = 'label', data = train_X, order = train_X['label'].value_counts().index, hue=\"label\")\n",
    "plt.xlabel('Sentiment')\n",
    "plt.ylabel('Frequency')\n",
    "plt.show()\n",
    "\n",
    "train_X['label'].value_counts()"
   ]
  },
  {
   "cell_type": "code",
   "execution_count": 28,
   "metadata": {},
   "outputs": [],
   "source": [
    "from sklearn.utils import resample\n",
    "from sklearn.utils import shuffle\n",
    "\n",
    "# perform oversampling on train dataset\n",
    "def oversampling(train_X):\n",
    "    df_major_neg = train_X[train_X['label'] == -1]\n",
    "    df_minor_neu = train_X[train_X['label'] == 0]\n",
    "    df_minor_pos = train_X[train_X['label'] == 1]        \n",
    "    major_count = len(df_major_neg)\n",
    " \n",
    "    # oversample minority class\n",
    "    df_minor_neu_oversampled = resample(df_minor_neu, \n",
    "                                 replace = True,              # sample with replacement\n",
    "                                 n_samples = major_count,     # to match majority class \n",
    "                                 random_state = 1000)    \n",
    "\n",
    "    df_minor_pos_oversampled = resample(df_minor_pos, \n",
    "                                 replace = True,             \n",
    "                                 n_samples = major_count,   \n",
    "                                 random_state = 1000)      \n",
    "         \n",
    "    trainX = pd.concat([df_major_neg, df_minor_neu_oversampled, df_minor_pos_oversampled])   # Combine majority class with oversampled minority class\n",
    "    print(\"Train dataset calss distribution: \\n\", trainX.label.value_counts())\n",
    "    trainX = shuffle(trainX, random_state = 200) \n",
    "    return trainX"
   ]
  },
  {
   "cell_type": "code",
   "execution_count": 29,
   "metadata": {},
   "outputs": [
    {
     "name": "stdout",
     "output_type": "stream",
     "text": [
      "Train dataset calss distribution: \n",
      " label\n",
      "-1    7353\n",
      " 0    7353\n",
      " 1    7353\n",
      "Name: count, dtype: int64\n"
     ]
    }
   ],
   "source": [
    "train_X = oversampling(train_X)"
   ]
  },
  {
   "cell_type": "code",
   "execution_count": 30,
   "metadata": {},
   "outputs": [],
   "source": [
    "def undersampling(train_X):\n",
    "    df_major_neg = train_X[train_X['label'] == -1]\n",
    "    df_minor_neu = train_X[train_X['label'] == 0]\n",
    "    df_minor_pos = train_X[train_X['label'] == 1]\n",
    "    \n",
    "    minor_count = min(len(df_minor_neu), len(df_minor_pos))\n",
    " \n",
    "    df_major_neg_undersampled = resample(df_major_neg, \n",
    "                                 replace = False,\n",
    "                                 n_samples = minor_count,\n",
    "                                 random_state = 1000)    \n",
    "    df_minor_neu_undersampled = resample(df_minor_neu,\n",
    "                                 replace = False,\n",
    "                                 n_samples = minor_count,\n",
    "                                 random_state = 1000)\n",
    "\n",
    "    trainX = pd.concat([df_major_neg_undersampled, df_minor_neu_undersampled, df_minor_pos])\n",
    "    \n",
    "    trainX = shuffle(trainX, random_state = 200) \n",
    "    \n",
    "    print(\"Train dataset class distribution: \\n\", trainX.label.value_counts())\n",
    "    \n",
    "    return trainX"
   ]
  },
  {
   "cell_type": "code",
   "execution_count": 31,
   "metadata": {},
   "outputs": [],
   "source": [
    "# train_X = undersampling(train_X)"
   ]
  },
  {
   "cell_type": "code",
   "execution_count": 32,
   "metadata": {},
   "outputs": [],
   "source": [
    "from sklearn.feature_extraction.text import CountVectorizer\n",
    "vector = CountVectorizer(analyzer = 'word', ngram_range=(1, 3)) "
   ]
  },
  {
   "cell_type": "code",
   "execution_count": 33,
   "metadata": {},
   "outputs": [],
   "source": [
    "from sklearn.naive_bayes import MultinomialNB\n",
    "from sklearn.pipeline import make_pipeline\n",
    "\n",
    "pipe = make_pipeline(vector, MultinomialNB(alpha = 1.0, fit_prior = True))\n",
    "clf = pipe.fit(train_X['processed_text'], train_X['label'])    \n",
    "test_y_hat = pipe.predict(test_X['processed_text'])\n"
   ]
  },
  {
   "cell_type": "code",
   "execution_count": 34,
   "metadata": {},
   "outputs": [],
   "source": [
    "df_result = test_X.copy()\n",
    "df_result['prediction'] = test_y_hat.tolist()  \n",
    "\n",
    "df_prob = pd.DataFrame(pipe.predict_proba(test_X['processed_text']), columns = pipe.classes_)\n",
    "df_prob.index = df_result.index\n",
    "df_prob.columns = ['probability_negative', 'Probability_neutral', 'probability_positive']\n",
    "\n",
    "df_final = pd.concat([df_result, df_prob], axis = 1)\n",
    "    \n",
    "file_name = 'NB_' + '3' + '_' + 'oversampling' \n",
    "df_final.to_csv(file_name + '.csv')  "
   ]
  },
  {
   "cell_type": "code",
   "execution_count": 35,
   "metadata": {},
   "outputs": [
    {
     "name": "stdout",
     "output_type": "stream",
     "text": [
      "Predicted    -1    0    1   All\n",
      "True                           \n",
      "-1         1632  115   76  1823\n",
      "0           209  308  100   617\n",
      "1            72   54  360   486\n",
      "All        1913  477  536  2926\n"
     ]
    }
   ],
   "source": [
    "from sklearn.metrics import f1_score, classification_report,confusion_matrix, accuracy_score\n",
    "\n",
    "print(pd.crosstab(test_y.to_numpy(), test_y_hat, rownames = ['True'], colnames = ['Predicted'], margins = True)) "
   ]
  },
  {
   "cell_type": "code",
   "execution_count": 36,
   "metadata": {},
   "outputs": [
    {
     "name": "stdout",
     "output_type": "stream",
     "text": [
      "              precision    recall  f1-score   support\n",
      "\n",
      "          -1       0.85      0.90      0.87      1823\n",
      "           0       0.65      0.50      0.56       617\n",
      "           1       0.67      0.74      0.70       486\n",
      "\n",
      "    accuracy                           0.79      2926\n",
      "   macro avg       0.72      0.71      0.71      2926\n",
      "weighted avg       0.78      0.79      0.78      2926\n",
      "\n",
      "Macro F1 Score: 0.71\n",
      "Weighted F1 Score: 0.79\n"
     ]
    }
   ],
   "source": [
    "print(classification_report(test_y, test_y_hat))    \n",
    "print('Macro F1 Score: {:.2f}'.format(f1_score(test_y_hat, test_y, average = 'macro')))  \n",
    "print('Weighted F1 Score: {:.2f}'.format(f1_score(test_y_hat, test_y, average = 'weighted')))"
   ]
  },
  {
   "cell_type": "markdown",
   "metadata": {},
   "source": [
    "### Naive Bayes model\n"
   ]
  },
  {
   "cell_type": "code",
   "execution_count": 37,
   "metadata": {},
   "outputs": [],
   "source": [
    "def airline_NB(df, feature, ngram, sample_method):    \n",
    "    random.seed(1234567)\n",
    "        \n",
    "    if feature == \"TF\":\n",
    "        vector = CountVectorizer(analyzer = 'word', ngram_range=(1, ngram)) \n",
    "    elif feature == \"TFIDF\":        \n",
    "        vector = TfidfVectorizer(analyzer='word', ngram_range=(1, ngram))\n",
    "        \n",
    "    train_X, test_X, train_y, test_y = train_test_split(df, df['label'], test_size = 0.2, random_state = 101)\n",
    "        \n",
    "    if sample_method == \"undersampling\":\n",
    "        train_X = undersampling(train_X)\n",
    "    \n",
    "    elif sample_method == \"oversampling\":    \n",
    "        train_X = oversampling(train_X)   \n",
    "              \n",
    "    pipe = make_pipeline(vector, MultinomialNB(alpha = 1.0, fit_prior = True))\n",
    "    clf = pipe.fit(train_X['processed_text'], train_X['label'])     \n",
    "    \n",
    "    test_y_hat = pipe.predict(test_X['processed_text'])\n",
    "       \n",
    "    df_result = test_X.copy()\n",
    "    df_result['prediction'] = test_y_hat.tolist()   \n",
    "    \n",
    "    df_prob = pd.DataFrame(pipe.predict_proba(test_X['processed_text']), columns = pipe.classes_)\n",
    "    df_prob.index = df_result.index\n",
    "    df_prob.columns = ['probability_negative', 'Probability_neutral', 'probability_positive']\n",
    "\n",
    "    df_final = pd.concat([df_result, df_prob], axis = 1)\n",
    "    \n",
    "    file_name = 'NB_' + str(ngram) + '_' + sample_method \n",
    "    df_final.to_csv(file_name + '.csv')       \n",
    "    \n",
    "    print(\"-----------------------------------------\")\n",
    "    print(\"NB classification report -- \", \"feature: %s/\" %feature, \"ngram: %d/\" %ngram, \"sample_method: %s/\" %sample_method)\n",
    "    print(pd.crosstab(test_y.to_numpy(), test_y_hat, rownames = ['True'], colnames = ['Predicted'], margins = True))      \n",
    "\n",
    "    print(\"-----------------------------------------\")\n",
    "    print(classification_report(test_y, test_y_hat))    \n",
    "    print('Macro F1 Score: {:.2f}'.format(f1_score(test_y_hat, test_y, average = 'macro')))  \n",
    "    print('Weighted F1 Score: {:.2f}'.format(f1_score(test_y_hat, test_y, average = 'weighted')))"
   ]
  },
  {
   "cell_type": "markdown",
   "metadata": {},
   "source": [
    "### Naive Bayes. Arguments: dataframe, TF/IFIDF, unigran or ngram, data-balancing method   "
   ]
  },
  {
   "cell_type": "code",
   "execution_count": 38,
   "metadata": {},
   "outputs": [
    {
     "name": "stdout",
     "output_type": "stream",
     "text": [
      "-----------------------------------------\n",
      "NB classification report --  feature: TF/ ngram: 1/ sample_method: none/\n",
      "Predicted    -1    0    1   All\n",
      "True                           \n",
      "-1         1725   71   27  1823\n",
      "0           332  241   44   617\n",
      "1           160   45  281   486\n",
      "All        2217  357  352  2926\n",
      "-----------------------------------------\n",
      "              precision    recall  f1-score   support\n",
      "\n",
      "          -1       0.78      0.95      0.85      1823\n",
      "           0       0.68      0.39      0.49       617\n",
      "           1       0.80      0.58      0.67       486\n",
      "\n",
      "    accuracy                           0.77      2926\n",
      "   macro avg       0.75      0.64      0.67      2926\n",
      "weighted avg       0.76      0.77      0.75      2926\n",
      "\n",
      "Macro F1 Score: 0.67\n",
      "Weighted F1 Score: 0.79\n"
     ]
    }
   ],
   "source": [
    "airline_NB(df_sub_cleaned, \"TF\", 1, \"none\")"
   ]
  },
  {
   "cell_type": "code",
   "execution_count": 39,
   "metadata": {},
   "outputs": [
    {
     "name": "stdout",
     "output_type": "stream",
     "text": [
      "Train dataset calss distribution: \n",
      " label\n",
      "-1    7353\n",
      " 0    7353\n",
      " 1    7353\n",
      "Name: count, dtype: int64\n",
      "-----------------------------------------\n",
      "NB classification report --  feature: TF/ ngram: 1/ sample_method: oversampling/\n",
      "Predicted    -1    0    1   All\n",
      "True                           \n",
      "-1         1507  202  114  1823\n",
      "0           163  355   99   617\n",
      "1            54   70  362   486\n",
      "All        1724  627  575  2926\n",
      "-----------------------------------------\n",
      "              precision    recall  f1-score   support\n",
      "\n",
      "          -1       0.87      0.83      0.85      1823\n",
      "           0       0.57      0.58      0.57       617\n",
      "           1       0.63      0.74      0.68       486\n",
      "\n",
      "    accuracy                           0.76      2926\n",
      "   macro avg       0.69      0.72      0.70      2926\n",
      "weighted avg       0.77      0.76      0.76      2926\n",
      "\n",
      "Macro F1 Score: 0.70\n",
      "Weighted F1 Score: 0.76\n"
     ]
    }
   ],
   "source": [
    "airline_NB(df_sub_cleaned, \"TF\", 1, \"oversampling\")"
   ]
  },
  {
   "cell_type": "code",
   "execution_count": 40,
   "metadata": {},
   "outputs": [
    {
     "name": "stdout",
     "output_type": "stream",
     "text": [
      "Train dataset class distribution: \n",
      " label\n",
      "-1    1876\n",
      " 1    1876\n",
      " 0    1876\n",
      "Name: count, dtype: int64\n",
      "-----------------------------------------\n",
      "NB classification report --  feature: TF/ ngram: 1/ sample_method: undersampling/\n",
      "Predicted    -1    0    1   All\n",
      "True                           \n",
      "-1         1464  217  142  1823\n",
      "0           163  344  110   617\n",
      "1            50   52  384   486\n",
      "All        1677  613  636  2926\n",
      "-----------------------------------------\n",
      "              precision    recall  f1-score   support\n",
      "\n",
      "          -1       0.87      0.80      0.84      1823\n",
      "           0       0.56      0.56      0.56       617\n",
      "           1       0.60      0.79      0.68       486\n",
      "\n",
      "    accuracy                           0.75      2926\n",
      "   macro avg       0.68      0.72      0.69      2926\n",
      "weighted avg       0.76      0.75      0.75      2926\n",
      "\n",
      "Macro F1 Score: 0.69\n",
      "Weighted F1 Score: 0.75\n"
     ]
    }
   ],
   "source": [
    "airline_NB(df_sub_cleaned, \"TF\", 1, \"undersampling\")"
   ]
  },
  {
   "cell_type": "code",
   "execution_count": 41,
   "metadata": {},
   "outputs": [
    {
     "name": "stdout",
     "output_type": "stream",
     "text": [
      "-----------------------------------------\n",
      "NB classification report --  feature: TFIDF/ ngram: 2/ sample_method: none/\n",
      "Predicted    -1   0   1   All\n",
      "True                         \n",
      "-1         1815   8   0  1823\n",
      "0           548  60   9   617\n",
      "1           404   9  73   486\n",
      "All        2767  77  82  2926\n",
      "-----------------------------------------\n",
      "              precision    recall  f1-score   support\n",
      "\n",
      "          -1       0.66      1.00      0.79      1823\n",
      "           0       0.78      0.10      0.17       617\n",
      "           1       0.89      0.15      0.26       486\n",
      "\n",
      "    accuracy                           0.67      2926\n",
      "   macro avg       0.78      0.41      0.41      2926\n",
      "weighted avg       0.72      0.67      0.57      2926\n",
      "\n",
      "Macro F1 Score: 0.41\n",
      "Weighted F1 Score: 0.76\n"
     ]
    }
   ],
   "source": [
    "airline_NB(df_sub_cleaned, \"TFIDF\", 2, \"none\")"
   ]
  },
  {
   "cell_type": "code",
   "execution_count": 42,
   "metadata": {},
   "outputs": [
    {
     "name": "stdout",
     "output_type": "stream",
     "text": [
      "Train dataset calss distribution: \n",
      " label\n",
      "-1    7353\n",
      " 0    7353\n",
      " 1    7353\n",
      "Name: count, dtype: int64\n",
      "-----------------------------------------\n",
      "NB classification report --  feature: TFIDF/ ngram: 2/ sample_method: oversampling/\n",
      "Predicted    -1    0    1   All\n",
      "True                           \n",
      "-1         1567  156  100  1823\n",
      "0           185  334   98   617\n",
      "1            61   58  367   486\n",
      "All        1813  548  565  2926\n",
      "-----------------------------------------\n",
      "              precision    recall  f1-score   support\n",
      "\n",
      "          -1       0.86      0.86      0.86      1823\n",
      "           0       0.61      0.54      0.57       617\n",
      "           1       0.65      0.76      0.70       486\n",
      "\n",
      "    accuracy                           0.78      2926\n",
      "   macro avg       0.71      0.72      0.71      2926\n",
      "weighted avg       0.77      0.78      0.77      2926\n",
      "\n",
      "Macro F1 Score: 0.71\n",
      "Weighted F1 Score: 0.78\n"
     ]
    }
   ],
   "source": [
    "airline_NB(df_sub_cleaned, \"TFIDF\", 2, \"oversampling\")"
   ]
  },
  {
   "cell_type": "code",
   "execution_count": 43,
   "metadata": {},
   "outputs": [
    {
     "name": "stdout",
     "output_type": "stream",
     "text": [
      "Train dataset class distribution: \n",
      " label\n",
      "-1    1876\n",
      " 1    1876\n",
      " 0    1876\n",
      "Name: count, dtype: int64\n",
      "-----------------------------------------\n",
      "NB classification report --  feature: TFIDF/ ngram: 2/ sample_method: undersampling/\n",
      "Predicted    -1    0    1   All\n",
      "True                           \n",
      "-1         1534  174  115  1823\n",
      "0           191  330   96   617\n",
      "1            68   44  374   486\n",
      "All        1793  548  585  2926\n",
      "-----------------------------------------\n",
      "              precision    recall  f1-score   support\n",
      "\n",
      "          -1       0.86      0.84      0.85      1823\n",
      "           0       0.60      0.53      0.57       617\n",
      "           1       0.64      0.77      0.70       486\n",
      "\n",
      "    accuracy                           0.76      2926\n",
      "   macro avg       0.70      0.72      0.70      2926\n",
      "weighted avg       0.77      0.76      0.76      2926\n",
      "\n",
      "Macro F1 Score: 0.70\n",
      "Weighted F1 Score: 0.77\n"
     ]
    }
   ],
   "source": [
    "airline_NB(df_sub_cleaned, \"TFIDF\", 2, \"undersampling\")"
   ]
  },
  {
   "cell_type": "code",
   "execution_count": 44,
   "metadata": {},
   "outputs": [
    {
     "name": "stdout",
     "output_type": "stream",
     "text": [
      "-----------------------------------------\n",
      "NB classification report --  feature: TFIDF/ ngram: 3/ sample_method: none/\n",
      "Predicted    -1   0   1   All\n",
      "True                         \n",
      "-1         1813  10   0  1823\n",
      "0           550  59   8   617\n",
      "1           417   7  62   486\n",
      "All        2780  76  70  2926\n",
      "-----------------------------------------\n",
      "              precision    recall  f1-score   support\n",
      "\n",
      "          -1       0.65      0.99      0.79      1823\n",
      "           0       0.78      0.10      0.17       617\n",
      "           1       0.89      0.13      0.22       486\n",
      "\n",
      "    accuracy                           0.66      2926\n",
      "   macro avg       0.77      0.41      0.39      2926\n",
      "weighted avg       0.72      0.66      0.56      2926\n",
      "\n",
      "Macro F1 Score: 0.39\n",
      "Weighted F1 Score: 0.76\n"
     ]
    }
   ],
   "source": [
    "airline_NB(df_sub_cleaned, \"TFIDF\", 3, \"none\")"
   ]
  },
  {
   "cell_type": "code",
   "execution_count": 45,
   "metadata": {},
   "outputs": [
    {
     "name": "stdout",
     "output_type": "stream",
     "text": [
      "Train dataset calss distribution: \n",
      " label\n",
      "-1    7353\n",
      " 0    7353\n",
      " 1    7353\n",
      "Name: count, dtype: int64\n",
      "-----------------------------------------\n",
      "NB classification report --  feature: TFIDF/ ngram: 3/ sample_method: oversampling/\n",
      "Predicted    -1    0    1   All\n",
      "True                           \n",
      "-1         1546  173  104  1823\n",
      "0           169  346  102   617\n",
      "1            60   60  366   486\n",
      "All        1775  579  572  2926\n",
      "-----------------------------------------\n",
      "              precision    recall  f1-score   support\n",
      "\n",
      "          -1       0.87      0.85      0.86      1823\n",
      "           0       0.60      0.56      0.58       617\n",
      "           1       0.64      0.75      0.69       486\n",
      "\n",
      "    accuracy                           0.77      2926\n",
      "   macro avg       0.70      0.72      0.71      2926\n",
      "weighted avg       0.77      0.77      0.77      2926\n",
      "\n",
      "Macro F1 Score: 0.71\n",
      "Weighted F1 Score: 0.77\n"
     ]
    }
   ],
   "source": [
    "airline_NB(df_sub_cleaned, \"TFIDF\", 3, \"oversampling\")"
   ]
  },
  {
   "cell_type": "code",
   "execution_count": 46,
   "metadata": {},
   "outputs": [
    {
     "name": "stdout",
     "output_type": "stream",
     "text": [
      "Train dataset class distribution: \n",
      " label\n",
      "-1    1876\n",
      " 1    1876\n",
      " 0    1876\n",
      "Name: count, dtype: int64\n",
      "-----------------------------------------\n",
      "NB classification report --  feature: TFIDF/ ngram: 3/ sample_method: undersampling/\n",
      "Predicted    -1    0    1   All\n",
      "True                           \n",
      "-1         1524  183  116  1823\n",
      "0           187  333   97   617\n",
      "1            62   46  378   486\n",
      "All        1773  562  591  2926\n",
      "-----------------------------------------\n",
      "              precision    recall  f1-score   support\n",
      "\n",
      "          -1       0.86      0.84      0.85      1823\n",
      "           0       0.59      0.54      0.56       617\n",
      "           1       0.64      0.78      0.70       486\n",
      "\n",
      "    accuracy                           0.76      2926\n",
      "   macro avg       0.70      0.72      0.70      2926\n",
      "weighted avg       0.77      0.76      0.76      2926\n",
      "\n",
      "Macro F1 Score: 0.70\n",
      "Weighted F1 Score: 0.76\n"
     ]
    }
   ],
   "source": [
    "airline_NB(df_sub_cleaned, \"TFIDF\", 3, \"undersampling\")"
   ]
  },
  {
   "cell_type": "markdown",
   "metadata": {},
   "source": [
    "### SVM Model"
   ]
  },
  {
   "cell_type": "code",
   "execution_count": 47,
   "metadata": {},
   "outputs": [],
   "source": [
    "from sklearn.svm import SVC\n",
    "\n",
    "def airline_SVM(df, feature, ngram, sample_method):\n",
    "    random.seed(1234567)\n",
    "    \n",
    "    if feature == \"TF\":\n",
    "        vector = CountVectorizer(analyzer='word', ngram_range=(1, ngram)) \n",
    "    elif feature == \"TFIDF\":        \n",
    "        vector = TfidfVectorizer(analyzer='word', ngram_range=(1, ngram))\n",
    "        \n",
    "    train_X, test_X, train_y, test_y = train_test_split(df, df['label'], test_size=0.2, random_state=101)\n",
    "        \n",
    "    if sample_method == \"undersampling\":\n",
    "        train_X = undersampling(train_X)\n",
    "    \n",
    "    elif sample_method == \"oversampling\":    \n",
    "        train_X = oversampling(train_X)\n",
    "              \n",
    "    # SVM Classifier\n",
    "    pipe = make_pipeline(vector, SVC(kernel='linear', probability=True, random_state=101))\n",
    "    clf = pipe.fit(train_X['processed_text'], train_X['label'])\n",
    "    \n",
    "    test_y_hat = pipe.predict(test_X['processed_text'])\n",
    "       \n",
    "    df_result = test_X.copy()\n",
    "    df_result['prediction'] = test_y_hat.tolist()   \n",
    "    \n",
    "    df_prob = pd.DataFrame(pipe.predict_proba(test_X['processed_text']), columns=pipe.classes_)\n",
    "    df_prob.index = df_result.index\n",
    "    df_prob.columns = ['probability_negative', 'Probability_neutral', 'probability_positive']\n",
    "\n",
    "    df_final = pd.concat([df_result, df_prob], axis=1)\n",
    "    \n",
    "    file_name = 'SVM_' + str(ngram) + '_' + sample_method \n",
    "    df_final.to_csv(file_name + '.csv')       \n",
    "    \n",
    "    print(\"-----------------------------------------\")\n",
    "    print(\"SVM classification report -- \", \"feature: %s/\" %feature, \"ngram: %d/\" %ngram, \"sample_method: %s/\" %sample_method)\n",
    "    print(pd.crosstab(test_y.to_numpy(), test_y_hat, rownames=['True'], colnames=['Predicted'], margins=True))      \n",
    "\n",
    "    print(\"-----------------------------------------\")\n",
    "    print(classification_report(test_y, test_y_hat))    \n",
    "    print('Macro F1 Score: {:.2f}'.format(f1_score(test_y_hat, test_y, average='macro')))  \n",
    "    print('Weighted F1 Score: {:.2f}'.format(f1_score(test_y_hat, test_y, average='weighted')))         \n"
   ]
  },
  {
   "cell_type": "markdown",
   "metadata": {},
   "source": [
    "### SVM. Arguments: dataframe, TF/TFIDF, unigran or ngram, data-balancing method   \n"
   ]
  },
  {
   "cell_type": "code",
   "execution_count": 48,
   "metadata": {},
   "outputs": [
    {
     "name": "stdout",
     "output_type": "stream",
     "text": [
      "-----------------------------------------\n",
      "SVM classification report --  feature: TF/ ngram: 1/ sample_method: none/\n",
      "Predicted    -1    0    1   All\n",
      "True                           \n",
      "-1         1558  211   54  1823\n",
      "0           201  352   64   617\n",
      "1            82   72  332   486\n",
      "All        1841  635  450  2926\n",
      "-----------------------------------------\n",
      "              precision    recall  f1-score   support\n",
      "\n",
      "          -1       0.85      0.85      0.85      1823\n",
      "           0       0.55      0.57      0.56       617\n",
      "           1       0.74      0.68      0.71       486\n",
      "\n",
      "    accuracy                           0.77      2926\n",
      "   macro avg       0.71      0.70      0.71      2926\n",
      "weighted avg       0.77      0.77      0.77      2926\n",
      "\n",
      "Macro F1 Score: 0.71\n",
      "Weighted F1 Score: 0.77\n"
     ]
    }
   ],
   "source": [
    "airline_SVM(df_sub_cleaned, \"TF\", 1, \"none\")"
   ]
  },
  {
   "cell_type": "code",
   "execution_count": 49,
   "metadata": {},
   "outputs": [
    {
     "name": "stdout",
     "output_type": "stream",
     "text": [
      "Train dataset calss distribution: \n",
      " label\n",
      "-1    7353\n",
      " 0    7353\n",
      " 1    7353\n",
      "Name: count, dtype: int64\n",
      "-----------------------------------------\n",
      "SVM classification report --  feature: TF/ ngram: 1/ sample_method: oversampling/\n",
      "Predicted    -1    0    1   All\n",
      "True                           \n",
      "-1         1474  275   74  1823\n",
      "0           162  368   87   617\n",
      "1            75   87  324   486\n",
      "All        1711  730  485  2926\n",
      "-----------------------------------------\n",
      "              precision    recall  f1-score   support\n",
      "\n",
      "          -1       0.86      0.81      0.83      1823\n",
      "           0       0.50      0.60      0.55       617\n",
      "           1       0.67      0.67      0.67       486\n",
      "\n",
      "    accuracy                           0.74      2926\n",
      "   macro avg       0.68      0.69      0.68      2926\n",
      "weighted avg       0.75      0.74      0.75      2926\n",
      "\n",
      "Macro F1 Score: 0.68\n",
      "Weighted F1 Score: 0.73\n"
     ]
    }
   ],
   "source": [
    "airline_SVM(df_sub_cleaned, \"TF\", 1, \"oversampling\")"
   ]
  },
  {
   "cell_type": "code",
   "execution_count": 50,
   "metadata": {},
   "outputs": [
    {
     "name": "stdout",
     "output_type": "stream",
     "text": [
      "Train dataset class distribution: \n",
      " label\n",
      "-1    1876\n",
      " 1    1876\n",
      " 0    1876\n",
      "Name: count, dtype: int64\n",
      "-----------------------------------------\n",
      "SVM classification report --  feature: TF/ ngram: 1/ sample_method: undersampling/\n",
      "Predicted    -1    0    1   All\n",
      "True                           \n",
      "-1         1239  443  141  1823\n",
      "0           114  407   96   617\n",
      "1            47   93  346   486\n",
      "All        1400  943  583  2926\n",
      "-----------------------------------------\n",
      "              precision    recall  f1-score   support\n",
      "\n",
      "          -1       0.89      0.68      0.77      1823\n",
      "           0       0.43      0.66      0.52       617\n",
      "           1       0.59      0.71      0.65       486\n",
      "\n",
      "    accuracy                           0.68      2926\n",
      "   macro avg       0.64      0.68      0.65      2926\n",
      "weighted avg       0.74      0.68      0.70      2926\n",
      "\n",
      "Macro F1 Score: 0.65\n",
      "Weighted F1 Score: 0.67\n"
     ]
    }
   ],
   "source": [
    "airline_SVM(df_sub_cleaned, \"TF\", 1, \"undersampling\")"
   ]
  },
  {
   "cell_type": "code",
   "execution_count": 51,
   "metadata": {},
   "outputs": [
    {
     "name": "stdout",
     "output_type": "stream",
     "text": [
      "-----------------------------------------\n",
      "SVM classification report --  feature: TFIDF/ ngram: 2/ sample_method: none/\n",
      "Predicted    -1    0    1   All\n",
      "True                           \n",
      "-1         1699   84   40  1823\n",
      "0           280  282   55   617\n",
      "1           106   40  340   486\n",
      "All        2085  406  435  2926\n",
      "-----------------------------------------\n",
      "              precision    recall  f1-score   support\n",
      "\n",
      "          -1       0.81      0.93      0.87      1823\n",
      "           0       0.69      0.46      0.55       617\n",
      "           1       0.78      0.70      0.74       486\n",
      "\n",
      "    accuracy                           0.79      2926\n",
      "   macro avg       0.76      0.70      0.72      2926\n",
      "weighted avg       0.78      0.79      0.78      2926\n",
      "\n",
      "Macro F1 Score: 0.72\n",
      "Weighted F1 Score: 0.81\n"
     ]
    }
   ],
   "source": [
    "airline_SVM(df_sub_cleaned, \"TFIDF\", 2, \"none\")"
   ]
  },
  {
   "cell_type": "code",
   "execution_count": 52,
   "metadata": {},
   "outputs": [
    {
     "name": "stdout",
     "output_type": "stream",
     "text": [
      "Train dataset calss distribution: \n",
      " label\n",
      "-1    7353\n",
      " 0    7353\n",
      " 1    7353\n",
      "Name: count, dtype: int64\n",
      "-----------------------------------------\n",
      "SVM classification report --  feature: TFIDF/ ngram: 2/ sample_method: oversampling/\n",
      "Predicted    -1    0    1   All\n",
      "True                           \n",
      "-1         1659  117   47  1823\n",
      "0           232  315   70   617\n",
      "1            82   51  353   486\n",
      "All        1973  483  470  2926\n",
      "-----------------------------------------\n",
      "              precision    recall  f1-score   support\n",
      "\n",
      "          -1       0.84      0.91      0.87      1823\n",
      "           0       0.65      0.51      0.57       617\n",
      "           1       0.75      0.73      0.74       486\n",
      "\n",
      "    accuracy                           0.80      2926\n",
      "   macro avg       0.75      0.72      0.73      2926\n",
      "weighted avg       0.79      0.80      0.79      2926\n",
      "\n",
      "Macro F1 Score: 0.73\n",
      "Weighted F1 Score: 0.80\n"
     ]
    }
   ],
   "source": [
    "airline_SVM(df_sub_cleaned, \"TFIDF\", 2, \"oversampling\")"
   ]
  },
  {
   "cell_type": "code",
   "execution_count": 53,
   "metadata": {},
   "outputs": [
    {
     "name": "stdout",
     "output_type": "stream",
     "text": [
      "Train dataset class distribution: \n",
      " label\n",
      "-1    1876\n",
      " 1    1876\n",
      " 0    1876\n",
      "Name: count, dtype: int64\n",
      "-----------------------------------------\n",
      "SVM classification report --  feature: TFIDF/ ngram: 2/ sample_method: undersampling/\n",
      "Predicted    -1    0    1   All\n",
      "True                           \n",
      "-1         1430  273  120  1823\n",
      "0           133  394   90   617\n",
      "1            48   58  380   486\n",
      "All        1611  725  590  2926\n",
      "-----------------------------------------\n",
      "              precision    recall  f1-score   support\n",
      "\n",
      "          -1       0.89      0.78      0.83      1823\n",
      "           0       0.54      0.64      0.59       617\n",
      "           1       0.64      0.78      0.71       486\n",
      "\n",
      "    accuracy                           0.75      2926\n",
      "   macro avg       0.69      0.73      0.71      2926\n",
      "weighted avg       0.77      0.75      0.76      2926\n",
      "\n",
      "Macro F1 Score: 0.71\n",
      "Weighted F1 Score: 0.75\n"
     ]
    }
   ],
   "source": [
    "airline_SVM(df_sub_cleaned, \"TFIDF\", 2, \"undersampling\")"
   ]
  },
  {
   "cell_type": "code",
   "execution_count": 54,
   "metadata": {},
   "outputs": [
    {
     "name": "stdout",
     "output_type": "stream",
     "text": [
      "-----------------------------------------\n",
      "SVM classification report --  feature: TFIDF/ ngram: 3/ sample_method: none/\n",
      "Predicted    -1    0    1   All\n",
      "True                           \n",
      "-1         1702   75   46  1823\n",
      "0           291  269   57   617\n",
      "1           103   37  346   486\n",
      "All        2096  381  449  2926\n",
      "-----------------------------------------\n",
      "              precision    recall  f1-score   support\n",
      "\n",
      "          -1       0.81      0.93      0.87      1823\n",
      "           0       0.71      0.44      0.54       617\n",
      "           1       0.77      0.71      0.74       486\n",
      "\n",
      "    accuracy                           0.79      2926\n",
      "   macro avg       0.76      0.69      0.72      2926\n",
      "weighted avg       0.78      0.79      0.78      2926\n",
      "\n",
      "Macro F1 Score: 0.72\n",
      "Weighted F1 Score: 0.81\n"
     ]
    }
   ],
   "source": [
    "airline_SVM(df_sub_cleaned, \"TFIDF\", 3, \"none\")"
   ]
  },
  {
   "cell_type": "code",
   "execution_count": 55,
   "metadata": {},
   "outputs": [
    {
     "name": "stdout",
     "output_type": "stream",
     "text": [
      "Train dataset calss distribution: \n",
      " label\n",
      "-1    7353\n",
      " 0    7353\n",
      " 1    7353\n",
      "Name: count, dtype: int64\n",
      "-----------------------------------------\n",
      "SVM classification report --  feature: TFIDF/ ngram: 3/ sample_method: oversampling/\n",
      "Predicted    -1    0    1   All\n",
      "True                           \n",
      "-1         1675   98   50  1823\n",
      "0           255  292   70   617\n",
      "1            87   46  353   486\n",
      "All        2017  436  473  2926\n",
      "-----------------------------------------\n",
      "              precision    recall  f1-score   support\n",
      "\n",
      "          -1       0.83      0.92      0.87      1823\n",
      "           0       0.67      0.47      0.55       617\n",
      "           1       0.75      0.73      0.74       486\n",
      "\n",
      "    accuracy                           0.79      2926\n",
      "   macro avg       0.75      0.71      0.72      2926\n",
      "weighted avg       0.78      0.79      0.78      2926\n",
      "\n",
      "Macro F1 Score: 0.72\n",
      "Weighted F1 Score: 0.80\n"
     ]
    }
   ],
   "source": [
    "airline_SVM(df_sub_cleaned, \"TFIDF\", 3, \"oversampling\")"
   ]
  },
  {
   "cell_type": "code",
   "execution_count": 56,
   "metadata": {},
   "outputs": [
    {
     "name": "stdout",
     "output_type": "stream",
     "text": [
      "Train dataset class distribution: \n",
      " label\n",
      "-1    1876\n",
      " 1    1876\n",
      " 0    1876\n",
      "Name: count, dtype: int64\n",
      "-----------------------------------------\n",
      "SVM classification report --  feature: TFIDF/ ngram: 3/ sample_method: undersampling/\n",
      "Predicted    -1    0    1   All\n",
      "True                           \n",
      "-1         1466  243  114  1823\n",
      "0           155  369   93   617\n",
      "1            52   51  383   486\n",
      "All        1673  663  590  2926\n",
      "-----------------------------------------\n",
      "              precision    recall  f1-score   support\n",
      "\n",
      "          -1       0.88      0.80      0.84      1823\n",
      "           0       0.56      0.60      0.58       617\n",
      "           1       0.65      0.79      0.71       486\n",
      "\n",
      "    accuracy                           0.76      2926\n",
      "   macro avg       0.69      0.73      0.71      2926\n",
      "weighted avg       0.77      0.76      0.76      2926\n",
      "\n",
      "Macro F1 Score: 0.71\n",
      "Weighted F1 Score: 0.75\n"
     ]
    }
   ],
   "source": [
    "airline_SVM(df_sub_cleaned, \"TFIDF\", 3, \"undersampling\")"
   ]
  }
 ],
 "metadata": {
  "kernelspec": {
   "display_name": "Python 3",
   "language": "python",
   "name": "python3"
  },
  "language_info": {
   "codemirror_mode": {
    "name": "ipython",
    "version": 3
   },
   "file_extension": ".py",
   "mimetype": "text/x-python",
   "name": "python",
   "nbconvert_exporter": "python",
   "pygments_lexer": "ipython3",
   "version": "3.12.5"
  }
 },
 "nbformat": 4,
 "nbformat_minor": 2
}
